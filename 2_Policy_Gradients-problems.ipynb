{
 "cells": [
  {
   "cell_type": "markdown",
   "metadata": {},
   "source": [
    "# Assignment 2: Policy Gradient Methods\n"
   ]
  },
  {
   "cell_type": "code",
   "execution_count": 2,
   "metadata": {
    "collapsed": false
   },
   "outputs": [],
   "source": [
    "# Automatically reload changes to external code\n",
    "%load_ext autoreload\n",
    "%autoreload 2"
   ]
  },
  {
   "cell_type": "markdown",
   "metadata": {
    "collapsed": true
   },
   "source": [
    "In this assignment, you will implement the \"vanilla\" policy gradient method, i.e., a method that repeatedly computes estimates $\\hat{g}$ of $\\nabla_{\\theta} E[\\sum_t R_t]$ and takes gradient ascent steps $\\theta \\rightarrow \\theta + \\epsilon \\hat{g}$.\n",
    "To keep our code generic, so that we can write the same code to solve multiple MDPs with multiple policy parameterizations, we'll use classes for Policy and MDP. You can view the base classes in the file `rl.py`.\n",
    "\n",
    "We will use a grid-world MDP called FrozenLake.\n",
    "The following code constructs an instance of the MDP, and then prints its documentation."
   ]
  },
  {
   "cell_type": "code",
   "execution_count": 3,
   "metadata": {
    "collapsed": false
   },
   "outputs": [
    {
     "name": "stdout",
     "output_type": "stream",
     "text": [
      "\n",
      "    Winter is here. You and your friends were tossing around a frisbee at the park\n",
      "    when you made a wild throw that left the frisbee out in the middle of the lake.\n",
      "    The water is mostly frozen, but there are a few holes where the ice has melted.\n",
      "    If you step into one of those holes, you'll fall into the freezing water.\n",
      "    At this time, there's an international frisbee shortage, so it's absolutely imperative that\n",
      "    you navigate across the lake and retrieve the disc.\n",
      "    However, the ice is slippery, so you won't always move in the direction you intend.\n",
      "    The surface is described using a grid like the following\n",
      "\n",
      "        SFFF\n",
      "        FHFH\n",
      "        FFFH\n",
      "        HFFG\n",
      "\n",
      "    S : starting point, safe\n",
      "    F : frozen surface, safe\n",
      "    H : hole, fall to your doom\n",
      "    G : goal, where the frisbee is located\n",
      "\n",
      "    The episode ends when you reach the goal or fall in a hole.\n",
      "    You receive a reward of 1 if you reach the goal, and zero otherwise.\n",
      "\n",
      "    \n",
      "-----------------\n"
     ]
    }
   ],
   "source": [
    "from rl import rollout, Policy\n",
    "from frozen_lake import FrozenLake\n",
    "import numpy as np, numpy.random as nr\n",
    "\n",
    "np.random.seed(1)\n",
    "\n",
    "map4x4 = [\n",
    "    \"SFFF\",\n",
    "    \"FHFH\",\n",
    "    \"FFFH\",\n",
    "    \"HFFG\"]\n",
    "mdp = FrozenLake(map4x4)\n",
    "\n",
    "# FrozenLake is a MDP with finite state and action that involves navigating across a frozen lake.\n",
    "# (It's conventionally called a \"grid-world\" MDP, as the state space involves points in a 2D grid)\n",
    "# Let's look at the docstring for details\n",
    "print FrozenLake.__doc__\n",
    "print \"-----------------\""
   ]
  },
  {
   "cell_type": "markdown",
   "metadata": {},
   "source": [
    "Next, we will define a random policy and use it to perform a rollout. The rollout data will be used for gradient checking."
   ]
  },
  {
   "cell_type": "code",
   "execution_count": 4,
   "metadata": {
    "collapsed": false
   },
   "outputs": [
    {
     "name": "stdout",
     "output_type": "stream",
     "text": [
      "{'terminated': True, 'rewards': array([ 0.,  0.,  0.,  0.,  0.,  0.,  0.,  0.]), 'observations': array([0, 0, 0, 0, 1, 0, 0, 4]), 'actions': array([1, 0, 3, 3, 0, 0, 0, 1]), 'pdists': array([None, None, None, None, None, None, None, None], dtype=object)}\n"
     ]
    }
   ],
   "source": [
    "class RandomDiscreteActionChooser(Policy):\n",
    "    def __init__(self, n_actions):\n",
    "        self.n_actions = n_actions\n",
    "    def step(self, observation):\n",
    "        return {\"action\":np.array([nr.randint(0, self.n_actions)])}\n",
    "\n",
    "policy = RandomDiscreteActionChooser(mdp.n_actions)\n",
    "    \n",
    "rdata = rollout(mdp, policy, 100)\n",
    "print rdata"
   ]
  },
  {
   "cell_type": "code",
   "execution_count": 5,
   "metadata": {
    "collapsed": false
   },
   "outputs": [],
   "source": [
    "s_n = rdata['observations'] # Vector of states (same as observations since MDP is fully-observed)\n",
    "a_n = rdata['actions'] # Vector of actions (each is an int in {0,1,2,3})\n",
    "n = a_n.shape[0] # Length of trajectory\n",
    "q_n = np.random.randn(n) # Returns (random for the sake of gradient checking)\n",
    "f_sa = np.random.randn(mdp.n_states, mdp.n_actions) # Policy parameter vector. explained shortly."
   ]
  },
  {
   "cell_type": "markdown",
   "metadata": {},
   "source": [
    "Now, a little explanation about the preceding definitions.\n",
    "First, we are using the convention that the letters after the underscore indicate what is indexing the array.\n",
    "For example, `s_n` has a single subscript `n`, meaning that it is a 1D vector, and we will use `n` to index over timesteps.\n",
    "`f_sa` is a matrix, whose first dimension `s` indexes over states, and whose second dimension `a` indexes over actions.\n",
    "This convention helps us avoid errors where axes are mismatched.\n",
    "\n",
    "The policy for our discrete MDP will be encoded by the matrix `f_sa`. The action probabilities are defined by exponentiating this matrix (elementwise) and then normalizing across the `a` dimension so the probabilities add up to 1. I.e., the matrix of probabilities is defined as follows"
   ]
  },
  {
   "cell_type": "code",
   "execution_count": 6,
   "metadata": {
    "collapsed": false
   },
   "outputs": [],
   "source": [
    "def softmax_prob(f_na):    \n",
    "    \"\"\"\n",
    "    Exponentiate f_na and normalize rows to have sum 1\n",
    "    so each row gives a probability distribution over discrete\n",
    "    action set\n",
    "    \"\"\"\n",
    "    prob_nk = np.exp(f_na - f_na.max(axis=1,keepdims=True))\n",
    "    prob_nk /= prob_nk.sum(axis=1,keepdims=True)\n",
    "    return prob_nk"
   ]
  },
  {
   "cell_type": "markdown",
   "metadata": {},
   "source": [
    "### Problem 1: implement policy gradient computation\n",
    "\n",
    "Next, you're going to implement a function for computing the policy gradient.\n",
    "We will define a function called `softmax_policy_checkfunc` -- your function should compute the gradient of it."
   ]
  },
  {
   "cell_type": "code",
   "execution_count": 7,
   "metadata": {
    "collapsed": false
   },
   "outputs": [],
   "source": [
    "def softmax_policy_checkfunc(f_sa, s_n, a_n, q_n):\n",
    "    r\"\"\"\n",
    "    An auxilliary function that's useful for checking the policy gradient\n",
    "    The inputs are \n",
    "    s_n : states (vector of int)\n",
    "    a_n : actions (vector of int)\n",
    "    q_n : returns (vectof of float)\n",
    "\n",
    "    This function returns\n",
    "\n",
    "    \\sum_n \\log \\pi(a_n | s_n) q_n\n",
    "\n",
    "    whose gradient is the policy gradient estimator\n",
    "\n",
    "    \\sum_n \\grad \\log \\pi(a_n | s_n) q_n\n",
    "\n",
    "    \"\"\"\n",
    "    f_na = f_sa[s_n]\n",
    "    p_na = softmax_prob(f_na)\n",
    "    n = s_n.shape[0]\n",
    "    return np.log(p_na[np.arange(n), a_n]).dot(q_n)/n\n",
    "\n",
    "def softmax_policy_gradient(f_sa, s_n, a_n, adv_n):\n",
    "    \"\"\"\n",
    "    Compute policy gradient of policy for discrete MDP, where probabilities\n",
    "    are obtained by exponentiating f_sa and normalizing\n",
    "    \"\"\"\n",
    "    # YOUR CODE HERE >>>>>>\n",
    "    # <<<<<<<< \n",
    "    softmax = softmax_prob(f_sa)\n",
    "    grad = np.zeros(f_sa.shape)\n",
    "    n = len(s_n)\n",
    "    for i in range(n):\n",
    "        s, a_i = s_n[i], a_n[i]\n",
    "        p = softmax[s, a_i]\n",
    "        for a in range(grad.shape[1]):\n",
    "            # derivative of softmax\n",
    "            # implicit division by p because we're taking gradient of log of probability\n",
    "            if a == a_i:\n",
    "                update = (1 - p)\n",
    "            else:\n",
    "                update = - softmax[s, a]\n",
    "            grad[s, a] += update * adv_n[i]\n",
    "    return grad / n\n",
    "\n"
   ]
  },
  {
   "cell_type": "markdown",
   "metadata": {},
   "source": [
    "We'll verify your function by checking the gradient numerically. You'll need the `numdifftools` module, which computes highly-precise numerical gradient estimates. (To install this module, open up a shell and run `pip install numdifftools`)"
   ]
  },
  {
   "cell_type": "code",
   "execution_count": 8,
   "metadata": {
    "collapsed": false
   },
   "outputs": [],
   "source": [
    "import numdifftools as ndt\n",
    "\n",
    "stepdir = np.random.randn(*f_sa.shape)\n",
    "auxfunc = lambda x: softmax_policy_checkfunc(f_sa+stepdir*x, s_n, a_n, q_n)\n",
    "\n",
    "numgrad = ndt.Derivative(auxfunc)(0)\n",
    "g = softmax_policy_gradient(f_sa, s_n, a_n, q_n)\n",
    "anagrad = (stepdir*g).sum()\n",
    "\n",
    "assert abs(numgrad - anagrad) < 1e-10"
   ]
  },
  {
   "cell_type": "markdown",
   "metadata": {},
   "source": [
    "Now you have a function that computes the policy gradient. Now you're ready to write a function that uses it to optimize the policy.\n",
    "First we'll define a Policy class that'll be used by your policy gradient optimization algorithm."
   ]
  },
  {
   "cell_type": "code",
   "execution_count": 9,
   "metadata": {
    "collapsed": true
   },
   "outputs": [],
   "source": [
    "from hw_utils import Message, discount, fmt_row\n",
    "from rl import rollout, pathlength\n",
    "import numpy as np\n",
    "from collections import defaultdict\n",
    "from categorical import cat_sample, cat_entropy, cat_kl\n",
    "import matplotlib.pyplot as plt\n",
    "\n",
    "class FrozenLakeTabularPolicy(Policy):\n",
    "    def __init__(self, n_states):\n",
    "        self.n_states = n_states\n",
    "        self.n_actions = n_actions = 4        \n",
    "        self.f_sa = np.zeros((n_states, n_actions))\n",
    "\n",
    "    def step(self, s_n):\n",
    "        f_na = self.f_sa[s_n]\n",
    "        prob_nk = softmax_prob(f_na)\n",
    "        acts_n = cat_sample(prob_nk)\n",
    "        return {\"action\":acts_n,\n",
    "                \"pdist\" : f_na}\n",
    "    \n",
    "    \n",
    "    def compute_pdists(self, s_n):\n",
    "        return self.f_sa[s_n]\n",
    "\n",
    "    def compute_entropy(self, f_na):\n",
    "        prob_nk = softmax_prob(f_na)\n",
    "        return cat_entropy(prob_nk)\n",
    "\n",
    "    def compute_kl(self, f0_na, f1_na):\n",
    "        p0_na = softmax_prob(f0_na)\n",
    "        p1_na = softmax_prob(f1_na)\n",
    "        return cat_kl(p0_na, p1_na)"
   ]
  },
  {
   "cell_type": "markdown",
   "metadata": {},
   "source": [
    "### Problem 2: Implement policy gradient optimization algorithm\n",
    "\n",
    "Complete the function below, to obtain an algorithm that optimizes the policy by computing policy gradient estimates.\n",
    "Output of a successful implementation is shown below this cell. Your result doesn't need to be exactly the same numerically, but the performance should be on far."
   ]
  },
  {
   "cell_type": "code",
   "execution_count": 77,
   "metadata": {
    "collapsed": false
   },
   "outputs": [
    {
     "name": "stdout",
     "output_type": "stream",
     "text": [
      "        EpRewMean |  EpLenMean | Perplexity |   KLOldNew\n",
      "     0.017+-0.008 |    8.39749 |          4 | 0.000966469\n",
      "     0.028+-0.010 |       8.02 |     3.9959 | 0.00260742\n",
      "     0.019+-0.008 |    7.44238 |    3.98988 | 0.000257249\n",
      "     0.020+-0.009 |    8.16735 |     3.9893 | 0.000638965\n",
      "     0.021+-0.009 |    8.33884 |    3.99059 | 0.000709634\n",
      "     0.021+-0.009 |     8.2428 |    3.98577 | 0.000900842\n",
      "     0.028+-0.011 |    8.11741 |    3.97634 | 0.000740827\n",
      "     0.020+-0.009 |          8 |    3.97374 | 0.000453128\n",
      "     0.014+-0.007 |    6.95848 |    3.97407 | 0.000358569\n",
      "     0.023+-0.009 |    7.79767 |    3.96551 | 0.00115601\n",
      "     0.019+-0.009 |    7.72973 |    3.94779 | 0.000270134\n",
      "     0.022+-0.009 |     7.4461 |     3.9467 | 0.00107828\n",
      "     0.008+-0.005 |    7.77692 |    3.93302 | 0.000214503\n",
      "     0.039+-0.012 |    7.89764 |    3.93374 | 0.00167379\n",
      "     0.020+-0.009 |    7.86275 |    3.92928 | 0.000262816\n",
      "     0.008+-0.006 |    7.98016 |    3.92525 | 0.000109266\n",
      "     0.000+-0.000 |    7.92913 |    3.92269 |          0\n",
      "     0.025+-0.010 |    8.41004 |    3.92019 | 0.000615091\n",
      "     0.032+-0.011 |    7.91304 |    3.90758 | 0.000848114\n",
      "     0.008+-0.005 |    7.83658 |    3.90695 | 4.63878e-05\n",
      "     0.039+-0.013 |    8.69264 |    3.89958 | 0.00252293\n",
      "     0.017+-0.008 |    8.30705 |    3.89004 |  0.0014676\n",
      "     0.056+-0.015 |    8.62661 |    3.85929 | 0.00362859\n",
      "     0.019+-0.009 |    7.70385 |    3.83906 | 0.000408203\n",
      "     0.040+-0.013 |          9 |    3.83795 | 0.00160127\n",
      "     0.012+-0.007 |    8.29098 |     3.8328 | 0.000100665\n",
      "     0.038+-0.013 |    8.59829 |    3.83781 | 0.00269799\n",
      "     0.026+-0.011 |    8.75652 |    3.80538 | 0.000713557\n",
      "     0.026+-0.011 |    8.74783 |    3.80912 | 0.000461254\n",
      "     0.043+-0.013 |    8.57692 |    3.79911 | 0.00230658\n",
      "     0.030+-0.011 |    8.73478 |    3.80121 | 0.00134415\n",
      "     0.025+-0.010 |    8.44118 |    3.80013 | 0.00133543\n",
      "     0.032+-0.012 |    9.08559 |    3.73834 | 0.000780951\n",
      "     0.045+-0.014 |    9.10909 |    3.71995 | 0.00261144\n",
      "     0.064+-0.016 |    8.59227 |    3.66985 |  0.0030214\n",
      "     0.048+-0.014 |    8.74236 |    3.60873 | 0.00251546\n",
      "     0.051+-0.015 |    9.36916 |    3.51405 | 0.00078778\n",
      "     0.036+-0.013 |    9.12273 |     3.5109 | 0.00042857\n",
      "     0.064+-0.016 |        9.1 |    3.51014 | 0.00603342\n",
      "     0.078+-0.019 |    10.4531 |    3.34337 | 0.00199717\n",
      "     0.053+-0.016 |    10.5421 |    3.22956 | 0.00343955\n",
      "     0.061+-0.018 |    11.1333 |    3.19622 | 0.00298159\n",
      "     0.070+-0.018 |     10.005 |    3.29338 | 0.00224973\n",
      "     0.066+-0.018 |    10.1162 |    3.34666 | 0.00262083\n",
      "     0.053+-0.016 |    10.6138 |    3.28439 | 0.00344031\n",
      "     0.049+-0.016 |    10.9185 |    3.16943 | 0.000868352\n",
      "     0.057+-0.017 |    10.3886 |    3.15551 | 0.00150706\n",
      "     0.135+-0.026 |    11.7765 |    3.01977 | 0.00645716\n",
      "     0.136+-0.028 |    13.0649 |    2.84548 | 0.00417498\n",
      "     0.096+-0.022 |    10.7273 |    2.88507 | 0.00796306\n",
      "     0.091+-0.022 |      11.44 |    2.93014 | 0.00322635\n",
      "     0.092+-0.023 |    13.1645 |    2.85701 | 0.00382541\n",
      "     0.089+-0.022 |    11.8935 |    2.83851 | 0.00164267\n",
      "     0.101+-0.025 |    13.5608 |    2.75524 | 0.00341335\n",
      "     0.072+-0.022 |     14.446 |     2.6578 | 0.00122498\n",
      "     0.158+-0.031 |    14.5252 |    2.64059 | 0.00165846\n",
      "     0.136+-0.029 |    14.3286 |    2.59126 | 0.00221736\n",
      "     0.114+-0.028 |     15.197 |     2.5539 |  0.0019409\n",
      "     0.119+-0.029 |    15.9286 |    2.46162 |  0.0129421\n",
      "     0.132+-0.030 |    15.6822 |     2.4155 | 0.000759651\n",
      "     0.175+-0.032 |    14.6788 |    2.42837 | 0.00378315\n",
      "     0.177+-0.034 |    16.1371 |    2.36824 | 0.00518887\n",
      "     0.195+-0.034 |    15.1203 |    2.33296 | 0.00274031\n",
      "     0.160+-0.033 |     16.184 |     2.2596 | 0.00528981\n",
      "     0.175+-0.035 |      16.85 |    2.29996 | 0.00570635\n",
      "     0.150+-0.033 |       16.7 |    2.23604 | 0.00159561\n",
      "     0.198+-0.037 |    17.3793 |    2.23262 | 0.00365439\n",
      "     0.170+-0.036 |    18.8868 |    2.14244 |  0.0013041\n",
      "     0.139+-0.031 |    16.4836 |    2.14964 | 0.00653265\n",
      "     0.210+-0.040 |    19.1524 |    2.15053 | 0.00137036\n",
      "     0.254+-0.041 |    17.7807 |    2.13589 | 0.00281654\n",
      "     0.255+-0.042 |    19.2453 |    1.99717 | 0.00668322\n",
      "     0.215+-0.040 |    18.7944 |    2.02189 |  0.0014171\n",
      "     0.221+-0.039 |     17.708 |    2.02166 | 0.00713922\n",
      "     0.242+-0.044 |    21.1053 |    1.94454 | 0.00330301\n",
      "     0.214+-0.040 |    19.6699 |    1.89647 | 0.00796091\n",
      "     0.265+-0.048 |    24.3133 |    1.84179 | 0.00602005\n",
      "     0.286+-0.054 |    28.6286 |    1.71639 |  0.0145198\n",
      "     0.264+-0.052 |    27.8333 |    1.58766 | 0.00556801\n",
      "     0.333+-0.051 |    23.3218 |    1.48422 | 0.00209007\n",
      "     0.338+-0.056 |    28.3803 |    1.42986 | 0.000766954\n",
      "     0.370+-0.057 |    27.5753 |    1.39822 | 0.00123243\n",
      "     0.470+-0.061 |    31.1364 |    1.37794 | 0.00404064\n",
      "     0.429+-0.062 |    32.2063 |     1.3375 |  0.0076713\n",
      "     0.514+-0.060 |         29 |    1.32699 | 0.000999533\n",
      "     0.500+-0.062 |    31.4375 |    1.30528 | 0.00166991\n",
      "     0.500+-0.062 |    30.3485 |    1.32445 | 0.00474346\n",
      "     0.542+-0.065 |         34 |    1.25424 | 0.000527182\n",
      "     0.433+-0.064 |    33.5667 |    1.25633 | 0.00176043\n",
      "     0.377+-0.062 |    33.4918 |    1.22601 | 0.000756439\n",
      "     0.578+-0.062 |    31.5469 |     1.2461 | 0.000341818\n",
      "     0.582+-0.067 |    36.8909 |    1.29168 | 0.000787687\n",
      "     0.467+-0.064 |      34.55 |     1.2617 | 0.00104313\n",
      "     0.648+-0.065 |    37.1852 |    1.24954 | 0.000731266\n",
      "     0.569+-0.065 |    34.7414 |    1.22574 | 0.000391451\n",
      "     0.557+-0.059 |    28.5857 |    1.24577 |  0.0010009\n",
      "     0.619+-0.061 |    31.7619 |    1.20954 | 0.00165911\n",
      "     0.574+-0.072 |    42.9574 |    1.21882 | 0.00117939\n",
      "     0.642+-0.066 |    37.8113 |    1.18928 | 0.000776803\n",
      "     0.586+-0.065 |    35.2759 |      1.173 | 0.000100409\n"
     ]
    }
   ],
   "source": [
    "def policy_gradient_optimize(mdp, policy,\n",
    "        gamma,\n",
    "        max_pathlength,\n",
    "        timesteps_per_batch,\n",
    "        n_iter,\n",
    "        stepsize):\n",
    "    stat2timeseries = defaultdict(list)\n",
    "    widths = (17,10,10,10,10)\n",
    "    print fmt_row(widths, [\"EpRewMean\",\"EpLenMean\",\"Perplexity\",\"KLOldNew\"])\n",
    "    for i in xrange(n_iter):\n",
    "        total_ts = 0\n",
    "        paths = [] \n",
    "        while True:\n",
    "            path = rollout(mdp, policy, max_pathlength)                \n",
    "            paths.append(path)\n",
    "            total_ts += pathlength(path)\n",
    "            if total_ts > timesteps_per_batch: \n",
    "                break\n",
    "\n",
    "        # get observations:\n",
    "        obs_no = np.concatenate([path[\"observations\"] for path in paths])\n",
    "\n",
    "        # Your code should compute the policy gradient and update the policy parameters\n",
    "        # you'll need to compute the discounted returns, compute the policy gradient, and update the parameters\n",
    "        # YOUR CODE HERE >>>>>>\n",
    "        update = None\n",
    "        for path in paths:\n",
    "            returns = path['rewards']\n",
    "            discounted_returns = np.zeros(len(returns) + 1)\n",
    "            for i in reversed(range(len(returns))):\n",
    "                discounted_returns[i] = returns[i] + gamma * discounted_returns[i+1]\n",
    "            grad = softmax_policy_gradient(policy.f_sa, path['observations'], path['actions'], discounted_returns)\n",
    "            if update is None:\n",
    "                update = grad\n",
    "            else:\n",
    "                update += grad\n",
    "        policy.f_sa = policy.f_sa + stepsize * update / len(paths)\n",
    "        # <<<<<<<< \n",
    "\n",
    "        pdists = np.concatenate([path[\"pdists\"] for path in paths])\n",
    "        kl = policy.compute_kl(pdists, policy.compute_pdists(obs_no)).mean()\n",
    "        perplexity = np.exp(policy.compute_entropy(pdists).mean())\n",
    "\n",
    "        stats = {  \"EpRewMean\" : np.mean([path[\"rewards\"].sum() for path in paths]),\n",
    "                   \"EpRewSEM\" : np.std([path[\"rewards\"].sum() for path in paths])/np.sqrt(len(paths)),\n",
    "                   \"EpLenMean\" : np.mean([pathlength(path) for path in paths]),\n",
    "                   \"Perplexity\" : perplexity,\n",
    "                   \"KLOldNew\" : kl }\n",
    "        print fmt_row(widths, ['%.3f+-%.3f'%(stats[\"EpRewMean\"], stats['EpRewSEM']), stats['EpLenMean'], stats['Perplexity'], stats['KLOldNew']])\n",
    "        \n",
    "        \n",
    "        for (name,val) in stats.items():\n",
    "            stat2timeseries[name].append(val)\n",
    "    return stat2timeseries\n",
    "            \n",
    "policy = FrozenLakeTabularPolicy(mdp.n_states)\n",
    "\n",
    "np.random.seed(0)            \n",
    "stat2ts = policy_gradient_optimize(mdp, policy,\n",
    "                gamma=.98,\n",
    "                max_pathlength=100,\n",
    "                timesteps_per_batch=2000,\n",
    "                n_iter=100,\n",
    "                stepsize=100)"
   ]
  },
  {
   "cell_type": "code",
   "execution_count": 78,
   "metadata": {
    "collapsed": true
   },
   "outputs": [],
   "source": [
    "# Output of successful implementation for problem 2...\n",
    "\n",
    "#      0.232+-0.042 |    20.2525 |     1.7738 | 0.00553472\n",
    "#      0.180+-0.041 |    22.5281 |    1.64021 | 0.000818475\n",
    "#      0.286+-0.046 |    20.4592 |    1.65031 | 0.00210285\n",
    "#      0.310+-0.050 |    23.1379 |    1.58822 | 0.000949984\n",
    "#      0.229+-0.043 |    21.1667 |    1.51748 | 0.00126626\n",
    "#      0.333+-0.053 |    25.7821 |    1.45515 | 0.00517389\n",
    "#      0.279+-0.054 |    29.7794 |    1.45849 | 0.00126206\n",
    "#      0.279+-0.054 |    29.8382 |    1.39328 | 0.000978533\n",
    "#      0.405+-0.057 |     27.473 |    1.36296 | 0.00081737\n",
    "#      0.395+-0.056 |    26.5921 |    1.33036 | 0.000578766\n",
    "#      0.439+-0.061 |    30.9394 |    1.29982 | 0.000903682\n",
    "#      0.403+-0.062 |    32.6935 |    1.28342 |  0.0003479\n",
    "#      0.461+-0.057 |    26.3421 |    1.30297 | 0.000425174\n",
    "#      0.368+-0.058 |    30.6912 |    1.27384 | 0.000224248\n",
    "#      0.545+-0.061 |    30.5758 |     1.2691 | 0.00110955\n",
    "#      0.508+-0.062 |    31.2308 |    1.26778 | 0.000117507\n",
    "#      0.391+-0.061 |    31.5156 |      1.242 | 0.000249331\n",
    "#      0.365+-0.061 |    31.9048 |     1.2347 | 0.000131674\n",
    "#      0.492+-0.064 |    32.8852 |    1.25998 | 0.000360727\n",
    "#      0.394+-0.058 |    28.4648 |    1.21109 | 0.000364956\n",
    "#      0.419+-0.063 |    32.4032 |    1.22287 | 0.000336991\n",
    "#      0.582+-0.067 |    37.6909 |    1.21275 | 0.00017788\n",
    "#      0.485+-0.062 |    30.4545 |    1.24474 | 0.000368472\n",
    "#      0.509+-0.067 |    36.4909 |    1.19584 | 0.000191174\n",
    "#      0.576+-0.064 |    33.9831 |     1.1816 | 8.99578e-05\n",
    "#      0.690+-0.061 |    35.1379 |    1.17238 | 0.000160158\n",
    "#      0.627+-0.063 |    34.1356 |    1.16137 | 8.35832e-05\n",
    "#      0.500+-0.071 |      40.34 |    1.16211 | 9.52723e-05\n",
    "#      0.464+-0.067 |    36.8036 |    1.17209 | 8.54947e-05\n",
    "#      0.509+-0.066 |    35.6491 |    1.16041 | 7.82523e-05\n",
    "#      0.632+-0.064 |    35.1579 |    1.15874 | 7.54936e-05\n",
    "#      0.582+-0.067 |    36.5273 |    1.15924 | 8.17684e-05\n",
    "#      0.630+-0.066 |    37.3704 |     1.1467 | 0.000170618\n",
    "#      0.583+-0.064 |    33.5167 |    1.15033 | 4.80961e-05\n",
    "#      0.662+-0.057 |    30.6324 |    1.13978 | 7.26294e-05\n",
    "#      0.618+-0.066 |    36.8545 |    1.13128 | 3.96185e-05\n",
    "#      0.529+-0.070 |    39.8431 |     1.1494 | 9.74017e-05\n",
    "#      0.589+-0.066 |    36.4107 |    1.13971 | 0.000125295\n",
    "#      0.644+-0.062 |    34.1695 |    1.12859 | 4.46991e-05\n",
    "#      0.625+-0.065 |    36.6071 |    1.11733 | 3.96966e-05\n",
    "#      0.526+-0.066 |    36.1053 |    1.13024 | 7.80788e-05\n",
    "#      0.667+-0.061 |    33.8667 |    1.10236 | 0.000207277\n",
    "#      0.617+-0.063 |      33.85 |    1.10662 | 6.32027e-05\n",
    "#      0.529+-0.070 |    39.8627 |    1.11525 | 2.46512e-05\n",
    "#      0.577+-0.069 |    38.7885 |    1.11533 | 1.71757e-05\n",
    "#      0.656+-0.061 |     34.082 |    1.14483 | 0.000279053\n",
    "#      0.709+-0.061 |    37.0182 |     1.1183 | 5.70132e-05\n",
    "#      0.589+-0.066 |    36.0536 |    1.13235 | 3.61136e-05\n",
    "#      0.714+-0.060 |    36.3929 |    1.12589 | 7.89316e-05\n",
    "#      0.617+-0.063 |    33.6333 |    1.11578 | 0.000110617\n",
    "#      0.661+-0.062 |    34.9661 |    1.11546 | 0.000102611\n",
    "#      0.661+-0.062 |    34.1864 |    1.12734 | 0.000132361\n",
    "#      0.660+-0.069 |    42.7872 |    1.10657 | 0.000389893\n",
    "#      0.732+-0.059 |    35.8036 |    1.12287 | 0.000284315\n",
    "#      0.569+-0.065 |    34.9483 |    1.11962 | 0.000197253\n",
    "\n",
    "# Several plots can be generated from the results:"
   ]
  },
  {
   "cell_type": "code",
   "execution_count": 79,
   "metadata": {
    "collapsed": false
   },
   "outputs": [
    {
     "data": {
      "image/png": "[encoded data removed]",
      "text/plain": [
       "<matplotlib.figure.Figure at 0x112269590>"
      ]
     },
     "metadata": {},
     "output_type": "display_data"
    },
    {
     "data": {
      "image/png": "[encoded data removed]",
      "text/plain": [
       "<matplotlib.figure.Figure at 0x111ac06d0>"
      ]
     },
     "metadata": {},
     "output_type": "display_data"
    },
    {
     "data": {
      "image/png": "[encoded data removed]",
      "text/plain": [
       "<matplotlib.figure.Figure at 0x111ba5a50>"
      ]
     },
     "metadata": {},
     "output_type": "display_data"
    },
    {
     "data": {
      "image/png": "[encoded data removed]",
      "text/plain": [
       "<matplotlib.figure.Figure at 0x111c2ab10>"
      ]
     },
     "metadata": {},
     "output_type": "display_data"
    }
   ],
   "source": [
    "%matplotlib inline\n",
    "plt.figure()\n",
    "plt.title(\"Episode Reward\")\n",
    "EpRewMean = np.array(stat2ts[\"EpRewMean\"])\n",
    "EpRewStd = np.array(stat2ts[\"EpRewSEM\"])\n",
    "plt.errorbar(np.arange(len(EpRewMean)), EpRewMean, yerr=EpRewStd, errorevery=5, linewidth=1)\n",
    "plt.figure()\n",
    "plt.title(\"Mean Episode Length\")\n",
    "plt.plot(stat2ts[\"EpLenMean\"])\n",
    "plt.figure()\n",
    "plt.title(\"Perplexity\")\n",
    "plt.plot(stat2ts[\"Perplexity\"])\n",
    "plt.figure()\n",
    "plt.title(\"Mean KL Divergence Between Old & New Policies\")\n",
    "plt.plot(stat2ts[\"KLOldNew\"]);"
   ]
  },
  {
   "cell_type": "markdown",
   "metadata": {},
   "source": [
    "Note that the perplexity goes down to 1, corresponding to a deterministic policy."
   ]
  },
  {
   "cell_type": "markdown",
   "metadata": {},
   "source": [
    "Let's \"plot\" the learned policy:"
   ]
  },
  {
   "cell_type": "code",
   "execution_count": 80,
   "metadata": {
    "collapsed": false
   },
   "outputs": [
    {
     "name": "stdout",
     "output_type": "stream",
     "text": [
      "action:  None\n",
      "\u001b[41mS\u001b[0mFFF\n",
      "FHFH\n",
      "FFFH\n",
      "HFFG\n",
      "action:  LEFT\n",
      "\u001b[41mS\u001b[0mFFF\n",
      "FHFH\n",
      "FFFH\n",
      "HFFG\n",
      "action:  LEFT\n",
      "SFFF\n",
      "\u001b[41mF\u001b[0mHFH\n",
      "FFFH\n",
      "HFFG\n",
      "action:  LEFT\n",
      "SFFF\n",
      "\u001b[41mF\u001b[0mHFH\n",
      "FFFH\n",
      "HFFG\n",
      "action:  LEFT\n",
      "SFFF\n",
      "\u001b[41mF\u001b[0mHFH\n",
      "FFFH\n",
      "HFFG\n",
      "action:  LEFT\n",
      "\u001b[41mS\u001b[0mFFF\n",
      "FHFH\n",
      "FFFH\n",
      "HFFG\n",
      "action:  LEFT\n",
      "\u001b[41mS\u001b[0mFFF\n",
      "FHFH\n",
      "FFFH\n",
      "HFFG\n",
      "action:  LEFT\n",
      "\u001b[41mS\u001b[0mFFF\n",
      "FHFH\n",
      "FFFH\n",
      "HFFG\n",
      "action:  LEFT\n",
      "\u001b[41mS\u001b[0mFFF\n",
      "FHFH\n",
      "FFFH\n",
      "HFFG\n",
      "action:  LEFT\n",
      "\u001b[41mS\u001b[0mFFF\n",
      "FHFH\n",
      "FFFH\n",
      "HFFG\n",
      "action:  LEFT\n",
      "\u001b[41mS\u001b[0mFFF\n",
      "FHFH\n",
      "FFFH\n",
      "HFFG\n",
      "action:  LEFT\n",
      "SFFF\n",
      "\u001b[41mF\u001b[0mHFH\n",
      "FFFH\n",
      "HFFG\n",
      "action:  LEFT\n",
      "SFFF\n",
      "FHFH\n",
      "\u001b[41mF\u001b[0mFFH\n",
      "HFFG\n",
      "action:  UP\n",
      "SFFF\n",
      "\u001b[41mF\u001b[0mHFH\n",
      "FFFH\n",
      "HFFG\n",
      "action:  LEFT\n",
      "SFFF\n",
      "FHFH\n",
      "\u001b[41mF\u001b[0mFFH\n",
      "HFFG\n",
      "action:  UP\n",
      "SFFF\n",
      "FHFH\n",
      "F\u001b[41mF\u001b[0mFH\n",
      "HFFG\n",
      "action:  DOWN\n",
      "SFFF\n",
      "FHFH\n",
      "\u001b[41mF\u001b[0mFFH\n",
      "HFFG\n",
      "action:  UP\n",
      "SFFF\n",
      "\u001b[41mF\u001b[0mHFH\n",
      "FFFH\n",
      "HFFG\n",
      "action:  LEFT\n",
      "SFFF\n",
      "FHFH\n",
      "\u001b[41mF\u001b[0mFFH\n",
      "HFFG\n",
      "action:  UP\n",
      "SFFF\n",
      "\u001b[41mF\u001b[0mHFH\n",
      "FFFH\n",
      "HFFG\n",
      "action:  LEFT\n",
      "\u001b[41mS\u001b[0mFFF\n",
      "FHFH\n",
      "FFFH\n",
      "HFFG\n",
      "action:  LEFT\n",
      "SFFF\n",
      "\u001b[41mF\u001b[0mHFH\n",
      "FFFH\n",
      "HFFG\n",
      "action:  LEFT\n",
      "SFFF\n",
      "FHFH\n",
      "\u001b[41mF\u001b[0mFFH\n",
      "HFFG\n",
      "action:  UP\n",
      "SFFF\n",
      "FHFH\n",
      "F\u001b[41mF\u001b[0mFH\n",
      "HFFG\n",
      "action:  DOWN\n",
      "SFFF\n",
      "FHFH\n",
      "FF\u001b[41mF\u001b[0mH\n",
      "HFFG\n",
      "action:  RIGHT\n",
      "SFFF\n",
      "FHFH\n",
      "FFF\u001b[41mH\u001b[0m\n",
      "HFFG\n",
      "terminated after 24 timesteps\n"
     ]
    }
   ],
   "source": [
    "from rl import animate_rollout\n",
    "animate_rollout(mdp,policy,delay=.001,horizon=100)"
   ]
  },
  {
   "cell_type": "markdown",
   "metadata": {},
   "source": [
    "### Problem 3: Implement some enhancement or variation on policy gradient optimization algorithm\n",
    "\n",
    "Some possibilities:\n",
    "- add a state-dependent baseline function\n",
    "- use RMSProp, momentum gradient descent, or ADAM as the underlying stochastic optimization algorithm instead of SGD\n",
    "- implement some variant of the natural gradient algorithm or trust region policy optimization\n",
    "- something else that you invented\n",
    "\n",
    "Run your algorithm on the mdp above (with a 4x4 grid), and also run it on the following 8x8 grid.\n",
    "Plot the learning curve you obtain. You will probably have to tune stepsize, and it might help to adjust the discount factor gamma.\n",
    "\n",
    "    map8x8 = [\n",
    "        \"SFFFFFFF\",\n",
    "        \"FFFFFFFF\",\n",
    "        \"FFFHFFFF\",\n",
    "        \"FFFFFHFF\",\n",
    "        \"FFFHFFFF\",\n",
    "        \"FHHFFFHF\",\n",
    "        \"FHFFHFHF\",\n",
    "        \"FFFHFFFG\"\n",
    "    ]\n"
   ]
  },
  {
   "cell_type": "code",
   "execution_count": 71,
   "metadata": {
    "collapsed": true
   },
   "outputs": [],
   "source": [
    "def policy_gradient_optimize_enhanced(mdp, policy,\n",
    "        gamma,\n",
    "        max_pathlength,\n",
    "        timesteps_per_batch,\n",
    "        n_iter,\n",
    "        stepsize,\n",
    "        decay_iter,\n",
    "        rms_decay):\n",
    "    stat2timeseries = defaultdict(list)\n",
    "    widths = (17,10,10,10,10)\n",
    "    print fmt_row(widths, [\"EpRewMean\",\"EpLenMean\",\"Perplexity\",\"KLOldNew\"])\n",
    "    \n",
    "    grad_dim = policy.f_sa.shape\n",
    "    meansquare = np.ones(grad_dim)\n",
    "    for i in xrange(n_iter):\n",
    "        total_ts = 0\n",
    "        paths = [] \n",
    "        while True:\n",
    "            path = rollout(mdp, policy, max_pathlength)                \n",
    "            paths.append(path)\n",
    "            total_ts += pathlength(path)\n",
    "            if total_ts > timesteps_per_batch: \n",
    "                break\n",
    "\n",
    "        # get observations:\n",
    "        obs_no = np.concatenate([path[\"observations\"] for path in paths])\n",
    "\n",
    "        update = np.zeros(policy.f_sa.shape)\n",
    "        for path in paths:\n",
    "            returns = path['rewards']\n",
    "            obs = path['observations']\n",
    "            discounted_returns = np.zeros(len(returns) + 1)\n",
    "            for i in reversed(range(len(returns))):\n",
    "                discounted_returns[i] = returns[i] + gamma * discounted_returns[i+1]\n",
    "            update += softmax_policy_gradient(policy.f_sa, obs, path['actions'], discounted_returns)\n",
    "        gradient = -update / len(paths)\n",
    "        \n",
    "        # added: RMSProp (based on http://www.cs.toronto.edu/~tijmen/csc321/slides/lecture_slides_lec6.pdf)\n",
    "        meansquare = (1 - rms_decay) * meansquare + rms_decay * (gradient ** 2)\n",
    "        if i == 100:\n",
    "            stepsize /= 10\n",
    "        policy.f_sa = policy.f_sa - (stepsize / (i + 1)) * (gradient / (meansquare ** 0.5 + 1e-06))\n",
    "\n",
    "        pdists = np.concatenate([path[\"pdists\"] for path in paths])\n",
    "        kl = policy.compute_kl(pdists, policy.compute_pdists(obs_no)).mean()\n",
    "        perplexity = np.exp(policy.compute_entropy(pdists).mean())\n",
    "\n",
    "        stats = {  \"EpRewMean\" : np.mean([path[\"rewards\"].sum() for path in paths]),\n",
    "                   \"EpRewSEM\" : np.std([path[\"rewards\"].sum() for path in paths])/np.sqrt(len(paths)),\n",
    "                   \"EpLenMean\" : np.mean([pathlength(path) for path in paths]),\n",
    "                   \"Perplexity\" : perplexity,\n",
    "                   \"KLOldNew\" : kl }\n",
    "        print fmt_row(widths, ['%.3f+-%.3f'%(stats[\"EpRewMean\"], stats['EpRewSEM']), stats['EpLenMean'], stats['Perplexity'], stats['KLOldNew']])\n",
    "        \n",
    "        \n",
    "        for (name,val) in stats.items():\n",
    "            stat2timeseries[name].append(val)\n",
    "    return stat2timeseries"
   ]
  },
  {
   "cell_type": "code",
   "execution_count": 48,
   "metadata": {
    "collapsed": false,
    "scrolled": true
   },
   "outputs": [
    {
     "name": "stdout",
     "output_type": "stream",
     "text": [
      "        EpRewMean |  EpLenMean | Perplexity |   KLOldNew\n",
      "     0.017+-0.008 |    8.39749 |          4 | 0.00107478\n",
      "     0.028+-0.010 |     7.9249 |    3.99541 | 0.00316754\n",
      "     0.019+-0.008 |    7.52632 |    3.98803 | 0.000362628\n",
      "     0.020+-0.009 |    8.06855 |    3.98715 | 0.000979693\n",
      "     0.016+-0.008 |    8.23673 |    3.98867 | 0.00107682\n",
      "     0.020+-0.009 |    8.20902 |    3.98286 | 0.00182033\n",
      "     0.034+-0.011 |    7.68199 |    3.96761 | 0.00160917\n",
      "     0.020+-0.009 |    8.22951 |    3.96283 | 0.00203084\n",
      "     0.033+-0.011 |    7.30545 |    3.95074 | 0.00268324\n",
      "     0.039+-0.012 |    7.80545 |     3.9207 | 0.00682424\n",
      "     0.034+-0.011 |    7.50562 |    3.82514 | 0.00564274\n",
      "     0.031+-0.011 |    7.77132 |    3.74399 | 0.00370049\n",
      "     0.024+-0.010 |       8.06 |    3.63377 | 0.00142534\n",
      "     0.015+-0.008 |    7.59091 |    3.60254 | 0.00248836\n",
      "     0.029+-0.010 |    7.30657 |    3.60631 | 0.00765981\n",
      "     0.019+-0.008 |    7.45926 |    3.72614 | 0.00467187\n",
      "     0.023+-0.009 |    7.67816 |    3.74678 | 0.00744311\n",
      "     0.030+-0.011 |    7.57955 |    3.62735 | 0.00498757\n",
      "     0.025+-0.009 |    7.18996 |    3.58458 |  0.0119025\n",
      "     0.038+-0.012 |    7.73077 |    3.34203 |  0.0349395\n",
      "     0.049+-0.015 |    8.99552 |    2.93425 |  0.0148289\n",
      "     0.035+-0.011 |    7.78988 |    2.69845 |  0.0172071\n",
      "     0.069+-0.017 |    9.19725 |    2.60988 |  0.0068674\n",
      "     0.073+-0.018 |    9.10909 |    2.45222 |  0.0141869\n",
      "     0.062+-0.017 |    9.54028 |     2.3791 |  0.0113564\n",
      "     0.062+-0.016 |       8.96 |    2.24198 |  0.0241464\n",
      "     0.096+-0.021 |    10.1624 |    2.18165 |  0.0144873\n",
      "     0.116+-0.025 |    12.2378 |    2.00449 |   0.109401\n",
      "     0.202+-0.036 |    16.2823 |    1.84137 |   0.088966\n",
      "     0.221+-0.041 |    19.2885 |    1.63413 |  0.0384184\n",
      "     0.293+-0.050 |    24.5122 |    1.61688 |  0.0580233\n",
      "     0.342+-0.054 |       26.5 |    1.36375 |  0.0104069\n",
      "     0.375+-0.057 |       28.5 |    1.24757 |  0.0445261\n",
      "     0.646+-0.059 |         31 |    1.08431 |  0.0054992\n",
      "     0.585+-0.068 |    37.8868 |    1.07926 |  0.0196474\n",
      "     0.482+-0.067 |     36.125 |    1.08825 |  0.0447389\n",
      "     0.368+-0.064 |    35.4035 |    1.07385 | 0.00973372\n",
      "     0.429+-0.062 |    31.8413 |    1.04702 |  0.0233602\n",
      "     0.587+-0.062 |    31.8571 |    1.07945 |   0.169323\n",
      "     0.593+-0.067 |    37.3148 |    1.04404 | 0.00245398\n",
      "     0.577+-0.069 |    39.5769 |    1.05799 |  0.0191567\n",
      "     0.712+-0.063 |    39.0192 |    1.02394 | 0.000845396\n",
      "     0.556+-0.068 |    37.2778 |    1.03333 | 0.00937237\n",
      "     0.545+-0.075 |    46.1136 |    1.05367 |  0.0878544\n",
      "     0.347+-0.055 |      26.88 |    1.06909 |   0.220524\n",
      "     0.642+-0.066 |    39.3585 |    1.02006 | 0.00642617\n",
      "     0.508+-0.064 |    33.0492 |    1.05749 |  0.0141466\n",
      "     0.446+-0.062 |    31.6769 |    1.05024 |  0.0111394\n",
      "     0.585+-0.068 |    38.0943 |    1.06735 |  0.0419457\n",
      "     0.571+-0.062 |    32.1429 |    1.03196 | 0.000326173\n",
      "     0.418+-0.067 |    36.7818 |    1.04748 |  0.0917029\n",
      "     0.545+-0.067 |    36.7455 |    1.05687 | 0.00408752\n",
      "     0.537+-0.068 |    37.8333 |    1.05043 | 0.00893346\n",
      "     0.576+-0.064 |    33.9831 |    1.04448 | 0.00155379\n",
      "     0.667+-0.064 |    38.2037 |    1.05005 |  0.0128708\n",
      "     0.692+-0.064 |    38.7308 |    1.02297 |  0.0781632\n",
      "     0.706+-0.064 |    40.2941 |    1.03469 |   0.097796\n",
      "     0.576+-0.064 |    34.2373 |    1.00555 | 6.1253e-06\n",
      "     0.527+-0.067 |    38.7455 |    1.00497 | 3.31338e-06\n",
      "     0.625+-0.065 |    35.8036 |    1.00449 | 5.46085e-05\n",
      "     0.674+-0.069 |    43.7826 |    1.00539 | 2.1823e-05\n",
      "     0.600+-0.063 |    33.5333 |    1.00453 | 0.000137934\n",
      "     0.673+-0.065 |    38.5385 |    1.00557 |  0.0286718\n",
      "     0.417+-0.064 |      33.65 |    1.09223 |   0.507158\n",
      "     0.698+-0.063 |    37.9623 |    1.00443 | 9.23995e-05\n",
      "     0.646+-0.069 |    41.8125 |    1.00325 | 7.12067e-06\n",
      "     0.722+-0.061 |    37.2963 |    1.00396 | 0.000702756\n",
      "     0.627+-0.063 |    34.2373 |    1.00764 | 0.000282902\n",
      "     0.592+-0.070 |    41.3265 |    1.00423 | 7.5652e-05\n",
      "     0.769+-0.058 |    38.6346 |    1.00304 | 2.29502e-05\n",
      "     0.738+-0.055 |    31.4154 |    1.00303 | 0.000236827\n",
      "     0.660+-0.067 |       40.3 |    1.00447 | 0.00012398\n",
      "     0.583+-0.071 |    41.7292 |    1.00265 | 5.97685e-06\n",
      "     0.717+-0.062 |    37.7736 |    1.00222 | 3.14901e-05\n",
      "     0.719+-0.060 |    35.8246 |    1.00252 | 1.96399e-05\n",
      "     0.746+-0.057 |    34.1695 |     1.0028 | 1.03218e-05\n",
      "     0.642+-0.066 |    38.5849 |    1.00306 | 2.72068e-05\n",
      "     0.791+-0.062 |    46.9302 |    1.00214 | 3.41871e-05\n",
      "     0.607+-0.063 |    33.2459 |    1.00231 | 4.78049e-06\n",
      "     0.692+-0.064 |    38.6346 |    1.00177 | 2.32657e-06\n",
      "     0.768+-0.056 |    35.7857 |    1.00159 | 1.89491e-06\n",
      "     0.620+-0.069 |      41.04 |     1.0014 | 7.70573e-07\n",
      "     0.706+-0.064 |    40.1373 |    1.00127 | 7.8737e-07\n",
      "     0.700+-0.059 |    34.1167 |    1.00117 | 6.1721e-07\n",
      "     0.714+-0.065 |     41.102 |    1.00104 | 7.26449e-05\n",
      "     0.708+-0.066 |    43.1667 |      1.002 | 4.29718e-05\n",
      "     0.700+-0.059 |    33.8667 |    1.00133 | 5.10304e-06\n",
      "     0.736+-0.061 |    38.1132 |    1.00103 | 1.47966e-06\n",
      "     0.714+-0.070 |    48.9524 |    1.00087 | 5.74064e-07\n",
      "     0.755+-0.061 |    41.2857 |    1.00078 | 5.82614e-07\n",
      "     0.783+-0.053 |    33.7333 |    1.00074 | 4.19416e-07\n",
      "     0.686+-0.065 |    40.0784 |    1.00068 | 2.32624e-07\n",
      "     0.712+-0.063 |    38.4808 |    1.00064 | 2.54468e-07\n",
      "     0.690+-0.061 |    35.7414 |    1.00062 | 1.4485e-07\n",
      "     0.741+-0.060 |    37.3148 |    1.00054 | 1.54612e-07\n",
      "     0.645+-0.061 |    33.3226 |    1.00056 | 1.05222e-07\n",
      "     0.745+-0.059 |       36.8 |    1.00049 | 1.22418e-07\n",
      "     0.696+-0.068 |    44.1522 |    1.00047 | 1.28201e-07\n",
      "     0.755+-0.061 |    40.8571 |    1.00041 | 7.54265e-08\n",
      "     0.780+-0.059 |      40.26 |    1.00039 | 8.7703e-08\n"
     ]
    }
   ],
   "source": [
    "np.random.seed(0)\n",
    "mdp4x4 = FrozenLake(map4x4)\n",
    "policy4x4 = FrozenLakeTabularPolicy(mdp4x4.n_states)\n",
    "stat2ts4x4 = policy_gradient_optimize_enhanced(mdp4x4, policy4x4,\n",
    "                gamma=.98,\n",
    "                max_pathlength=200,\n",
    "                timesteps_per_batch=2000,\n",
    "                n_iter=100,\n",
    "                stepsize=10,\n",
    "                rms_decay=0.1)"
   ]
  },
  {
   "cell_type": "code",
   "execution_count": 49,
   "metadata": {
    "collapsed": false
   },
   "outputs": [
    {
     "data": {
      "text/plain": [
       "[<matplotlib.lines.Line2D at 0x10d61fcd0>]"
      ]
     },
     "execution_count": 49,
     "metadata": {},
     "output_type": "execute_result"
    },
    {
     "data": {
      "image/png": "[encoded data removed]",
      "text/plain": [
       "<matplotlib.figure.Figure at 0x10b658490>"
      ]
     },
     "metadata": {},
     "output_type": "display_data"
    },
    {
     "data": {
      "image/png": "[encoded data removed]",
      "text/plain": [
       "<matplotlib.figure.Figure at 0x108cb6b90>"
      ]
     },
     "metadata": {},
     "output_type": "display_data"
    }
   ],
   "source": [
    "%matplotlib inline\n",
    "plt.figure()\n",
    "plt.title(\"Episode Reward\")\n",
    "EpRewMean = np.array(stat2ts4x4[\"EpRewMean\"])\n",
    "EpRewStd = np.array(stat2ts4x4[\"EpRewSEM\"])\n",
    "plt.errorbar(np.arange(len(EpRewMean)), EpRewMean, yerr=EpRewStd, errorevery=5, linewidth=1)\n",
    "plt.figure()\n",
    "plt.title(\"Mean Episode Length\")\n",
    "plt.plot(stat2ts4x4[\"EpLenMean\"])"
   ]
  },
  {
   "cell_type": "code",
   "execution_count": null,
   "metadata": {
    "collapsed": false,
    "scrolled": true
   },
   "outputs": [],
   "source": [
    "np.random.seed(0)\n",
    "map8x8 = [\n",
    "    \"SFFFFFFF\",\n",
    "    \"FFFFFFFF\",\n",
    "    \"FFFHFFFF\",\n",
    "    \"FFFFFHFF\",\n",
    "    \"FFFHFFFF\",\n",
    "    \"FHHFFFHF\",\n",
    "    \"FHFFHFHF\",\n",
    "    \"FFFHFFFG\"\n",
    "]\n",
    "mdp8x8 = FrozenLake(map8x8)\n",
    "policy8x8 = FrozenLakeTabularPolicy(mdp8x8.n_states)\n",
    "stat2ts8x8 = policy_gradient_optimize_enhanced(mdp8x8, policy8x8,\n",
    "                gamma=.99,\n",
    "                max_pathlength=400,\n",
    "                timesteps_per_batch=10000,\n",
    "                n_iter=400,\n",
    "                stepsize=300,\n",
    "                rms_decay=0.1)"
   ]
  },
  {
   "cell_type": "code",
   "execution_count": null,
   "metadata": {
    "collapsed": false
   },
   "outputs": [],
   "source": [
    "plt.figure()\n",
    "plt.title(\"Episode Reward\")\n",
    "EpRewMean = np.array(stat2ts8x8[\"EpRewMean\"])\n",
    "EpRewStd = np.array(stat2ts8x8[\"EpRewSEM\"])\n",
    "plt.errorbar(np.arange(len(EpRewMean)), EpRewMean, yerr=EpRewStd, errorevery=5, linewidth=1)\n",
    "plt.figure()\n",
    "plt.title(\"Mean Episode Length\")\n",
    "plt.plot(stat2ts8x8[\"EpLenMean\"])"
   ]
  },
  {
   "cell_type": "markdown",
   "metadata": {},
   "source": [
    "### Problem 4: Experiment with Atari domain\n",
    "\n",
    "For this problem, you will experiment with the Atari domain. You will learn a policy to play Atari using the RAM state of the Atari emulator as input. It's significantly easier and faster to train that using images; however, it's still a highly non-trivial problem. In the instructors' experience, methods that work well on RAM also work well on images.\n",
    "\n",
    "First, build the required libraries by navigating into the code directory and running\n",
    "\n",
    "    ./setup_ale.sh\n",
    "\n",
    "You have two choices\n",
    "1. Use the instructor's implementation of *Proximal Policy Optimization* (A variant of [Trust Region Policy Optimization](http://arxiv.org/abs/1502.05477) which is simpler because it solves an unconstrained optimization problem). The code is provided in `ppo.py`. It requires [CGT](http://rll.berkeley.edu/cgt). Implement some variation on this algorithm. Some possibilities:\n",
    "   - Use a neural network value function instead of a linear value function\n",
    "   - Adjust the KL divergence penalty coefficient in an adaptive way so that the KL divergence is roughly fixed across iterations.\n",
    "   - Use SGD instead of LBFGS on each batch\n",
    "   - Use a different kind of discounting scheme, e.g. hyperbolic discounts\n",
    "   - Vary the neural network architecture of the policy\n",
    "   - Something else that you invented\n",
    "2. Implement a policy gradient method yourself, and run that. For example, you could use the policy gradient method you implemented in problems 1-3. In my experience, \"vanilla\" policy gradient methods don't work very well on this problem in a reasonable amount of time, but you may be able to get it working with some tinkering.\n",
    "\n",
    "Note: it's quite helpful to plot what the current policy is doing, as a diagnostic. To do this, you can use the `animate_rollout` function in `rl.py`.\n",
    "Also, it's helpful to run simulations in parallel, because simulation is usually the bottleneck on these problems with relatively low-dimensional inputs. See `ppo.py` for an example of how to do this with the multiprocessing module.\n",
    "\n",
    "<div class=\"alert alert-warning\">\n",
    "**Final Deliverable**: implement a policy gradient algorithm for Atari, following guidelines of (1) and (2) above, and perform a comparison of at least two different experimental conditions. E.g. [reference implementation, your variant], or [your idea 1, your idea 2, your idea 3]. Plot learning curves (i.e. the mean episode reward) for all experimental conditions.\n",
    "\n",
    "You may want to write the code outside of this notebook (if so, please include it in a zip file with your submission), but please put the plots **here**.\n",
    "</div>\n",
    "\n"
   ]
  },
  {
   "cell_type": "code",
   "execution_count": null,
   "metadata": {
    "collapsed": false
   },
   "outputs": [],
   "source": [
    "import h5py\n",
    "# reference implemnetation\n",
    "print('Reference:')\n",
    "stats_file = h5py.File('output/reference_stats.h5')\n",
    "ts = stats_file['diagnostics']\n",
    "plt.figure()\n",
    "plt.title(\"Episode Reward\")\n",
    "EpRewMean = np.array(ts[\"EpRewMean\"])\n",
    "EpRewStd = np.array(ts[\"EpRewSEM\"])\n",
    "plt.errorbar(np.arange(len(EpRewMean)), EpRewMean, yerr=EpRewStd, errorevery=5, linewidth=1)\n",
    "plt.figure()\n",
    "plt.title(\"Mean Episode Length\")\n",
    "plt.plot(ts[\"EpLenMean\"])\n",
    "\n",
    "\n",
    "# using SGD instead of lbfgs:\n"
   ]
  },
  {
   "cell_type": "markdown",
   "metadata": {},
   "source": [
    "### Problem 5: Experiment with MuJoCo / Locomotion\n",
    "\n",
    "For this problem, you will experiment with the MuJoCo domain, and learn a controller that enables a simulated robot character to hop.\n",
    "\n",
    "First, build the required libraries by navigating into the code directory and running\n",
    "\n",
    "    ./setup_mujoco.py\n",
    "    \n",
    "Again, you have the choice of modifying the instructor's implementation or using your own implementation.\n",
    "Follow the exact same instructions as in Problem 4 and plot learning curves showing the performance of your implementation."
   ]
  }
 ],
 "metadata": {
  "kernelspec": {
   "display_name": "Python 2",
   "language": "python",
   "name": "python2"
  },
  "language_info": {
   "codemirror_mode": {
    "name": "ipython",
    "version": 2
   },
   "file_extension": ".py",
   "mimetype": "text/x-python",
   "name": "python",
   "nbconvert_exporter": "python",
   "pygments_lexer": "ipython2",
   "version": "2.7.9"
  }
 },
 "nbformat": 4,
 "nbformat_minor": 0
}
